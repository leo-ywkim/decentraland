{
 "cells": [
  {
   "cell_type": "markdown",
   "metadata": {},
   "source": [
    "# Study on Decentraland "
   ]
  },
  {
   "cell_type": "markdown",
   "metadata": {},
   "source": [
    "### Retrieve data from decentraland"
   ]
  },
  {
   "cell_type": "code",
   "execution_count": 2,
   "metadata": {},
   "outputs": [],
   "source": [
    "import pandas as pd\n",
    "import numpy as np\n",
    "import datetime\n",
    "import time\n",
    "from tqdm import tqdm\n",
    "from time import sleep\n",
    "\n",
    "from scipy.interpolate import griddata\n",
    "\n",
    "import matplotlib.pyplot as plt\n",
    "import seaborn as sns\n",
    "\n",
    "import requests\n",
    "from pandas import json_normalize\n",
    "\n",
    "pd.options.display.max_columns = None"
   ]
  },
  {
   "cell_type": "code",
   "execution_count": 3,
   "metadata": {},
   "outputs": [],
   "source": [
    "    # data from decentraland\n",
    "url_decentraland = \"https://api.decentraland.org/\"\n",
    "response_tiles = requests.get(url_decentraland + \"v2/tiles\")\n",
    "tiles = pd.DataFrame.from_dict(response_tiles.json()[\"data\"], orient=\"index\").reset_index(drop=True)\n",
    "tiles = tiles.rename(columns={\"id\":\"xy\"})[[\"xy\",\"x\",\"y\",\"type\",\"estateId\",\"owner\",\"tokenId\",\"name\",\"price\"]]"
   ]
  },
  {
   "cell_type": "code",
   "execution_count": 4,
   "metadata": {},
   "outputs": [],
   "source": [
    "    # df save to csv\n",
    "today = \"220126\"\n",
    "tiles.to_csv('Y:\\decentraland_data_retrieve/retrieved_data/tiles/tile_info_{date}.csv'.format(date=today), header=True)"
   ]
  },
  {
   "cell_type": "code",
   "execution_count": 5,
   "metadata": {},
   "outputs": [
    {
     "name": "stdout",
     "output_type": "stream",
     "text": [
      "92598\n",
      "163 158\n",
      "-150 -150\n"
     ]
    }
   ],
   "source": [
    "print(len(tiles))\n",
    "print(tiles['x'].max(), tiles['y'].max())\n",
    "print(tiles['x'].min(), tiles['y'].min())"
   ]
  },
  {
   "cell_type": "code",
   "execution_count": 6,
   "metadata": {},
   "outputs": [
    {
     "data": {
      "text/html": [
       "<div>\n",
       "<style scoped>\n",
       "    .dataframe tbody tr th:only-of-type {\n",
       "        vertical-align: middle;\n",
       "    }\n",
       "\n",
       "    .dataframe tbody tr th {\n",
       "        vertical-align: top;\n",
       "    }\n",
       "\n",
       "    .dataframe thead th {\n",
       "        text-align: right;\n",
       "    }\n",
       "</style>\n",
       "<table border=\"1\" class=\"dataframe\">\n",
       "  <thead>\n",
       "    <tr style=\"text-align: right;\">\n",
       "      <th></th>\n",
       "      <th>xy</th>\n",
       "      <th>x</th>\n",
       "      <th>y</th>\n",
       "      <th>type</th>\n",
       "      <th>estateId</th>\n",
       "      <th>owner</th>\n",
       "      <th>tokenId</th>\n",
       "      <th>name</th>\n",
       "      <th>price</th>\n",
       "    </tr>\n",
       "  </thead>\n",
       "  <tbody>\n",
       "    <tr>\n",
       "      <th>0</th>\n",
       "      <td>-150,150</td>\n",
       "      <td>-150</td>\n",
       "      <td>150</td>\n",
       "      <td>district</td>\n",
       "      <td>1186</td>\n",
       "      <td>0xa65be351527ebcf8c1707d1e444dac38b41a5faf</td>\n",
       "      <td>1157920892373161954235709850086879078022276296...</td>\n",
       "      <td>NaN</td>\n",
       "      <td>NaN</td>\n",
       "    </tr>\n",
       "    <tr>\n",
       "      <th>1</th>\n",
       "      <td>-150,149</td>\n",
       "      <td>-150</td>\n",
       "      <td>149</td>\n",
       "      <td>district</td>\n",
       "      <td>1186</td>\n",
       "      <td>0xa65be351527ebcf8c1707d1e444dac38b41a5faf</td>\n",
       "      <td>1157920892373161954235709850086879078022276296...</td>\n",
       "      <td>NaN</td>\n",
       "      <td>NaN</td>\n",
       "    </tr>\n",
       "    <tr>\n",
       "      <th>2</th>\n",
       "      <td>-150,148</td>\n",
       "      <td>-150</td>\n",
       "      <td>148</td>\n",
       "      <td>district</td>\n",
       "      <td>1186</td>\n",
       "      <td>0xa65be351527ebcf8c1707d1e444dac38b41a5faf</td>\n",
       "      <td>1157920892373161954235709850086879078022276296...</td>\n",
       "      <td>NaN</td>\n",
       "      <td>NaN</td>\n",
       "    </tr>\n",
       "  </tbody>\n",
       "</table>\n",
       "</div>"
      ],
      "text/plain": [
       "         xy    x    y      type estateId  \\\n",
       "0  -150,150 -150  150  district     1186   \n",
       "1  -150,149 -150  149  district     1186   \n",
       "2  -150,148 -150  148  district     1186   \n",
       "\n",
       "                                        owner  \\\n",
       "0  0xa65be351527ebcf8c1707d1e444dac38b41a5faf   \n",
       "1  0xa65be351527ebcf8c1707d1e444dac38b41a5faf   \n",
       "2  0xa65be351527ebcf8c1707d1e444dac38b41a5faf   \n",
       "\n",
       "                                             tokenId name  price  \n",
       "0  1157920892373161954235709850086879078022276296...  NaN    NaN  \n",
       "1  1157920892373161954235709850086879078022276296...  NaN    NaN  \n",
       "2  1157920892373161954235709850086879078022276296...  NaN    NaN  "
      ]
     },
     "execution_count": 6,
     "metadata": {},
     "output_type": "execute_result"
    }
   ],
   "source": [
    "tiles.head(3)"
   ]
  },
  {
   "cell_type": "markdown",
   "metadata": {},
   "source": [
    "#### Private parcel owner"
   ]
  },
  {
   "cell_type": "code",
   "execution_count": 7,
   "metadata": {},
   "outputs": [],
   "source": [
    "owner_count = pd.DataFrame(tiles[tiles[\"type\"]=='owned']['owner'].value_counts().rename_axis('owner_address').reset_index(name='counts'))"
   ]
  },
  {
   "cell_type": "code",
   "execution_count": 8,
   "metadata": {},
   "outputs": [
    {
     "data": {
      "text/plain": [
       "6127"
      ]
     },
     "execution_count": 8,
     "metadata": {},
     "output_type": "execute_result"
    }
   ],
   "source": [
    "len(owner_count)"
   ]
  },
  {
   "cell_type": "code",
   "execution_count": 9,
   "metadata": {},
   "outputs": [
    {
     "data": {
      "text/html": [
       "<div>\n",
       "<style scoped>\n",
       "    .dataframe tbody tr th:only-of-type {\n",
       "        vertical-align: middle;\n",
       "    }\n",
       "\n",
       "    .dataframe tbody tr th {\n",
       "        vertical-align: top;\n",
       "    }\n",
       "\n",
       "    .dataframe thead th {\n",
       "        text-align: right;\n",
       "    }\n",
       "</style>\n",
       "<table border=\"1\" class=\"dataframe\">\n",
       "  <thead>\n",
       "    <tr style=\"text-align: right;\">\n",
       "      <th></th>\n",
       "      <th>owner_address</th>\n",
       "      <th>counts</th>\n",
       "    </tr>\n",
       "  </thead>\n",
       "  <tbody>\n",
       "    <tr>\n",
       "      <th>0</th>\n",
       "      <td>0x1463b7162103247c5d464f104f7c9da61dea1bfc</td>\n",
       "      <td>3548</td>\n",
       "    </tr>\n",
       "    <tr>\n",
       "      <th>1</th>\n",
       "      <td>0xb096e691b197e4622bc0033a2efda76082b33783</td>\n",
       "      <td>1527</td>\n",
       "    </tr>\n",
       "    <tr>\n",
       "      <th>2</th>\n",
       "      <td>0x5326a48a8badfbbf2fb6c4a03ae6685919e3040f</td>\n",
       "      <td>1397</td>\n",
       "    </tr>\n",
       "  </tbody>\n",
       "</table>\n",
       "</div>"
      ],
      "text/plain": [
       "                                owner_address  counts\n",
       "0  0x1463b7162103247c5d464f104f7c9da61dea1bfc    3548\n",
       "1  0xb096e691b197e4622bc0033a2efda76082b33783    1527\n",
       "2  0x5326a48a8badfbbf2fb6c4a03ae6685919e3040f    1397"
      ]
     },
     "execution_count": 9,
     "metadata": {},
     "output_type": "execute_result"
    }
   ],
   "source": [
    "owner_count.head(3)"
   ]
  },
  {
   "cell_type": "code",
   "execution_count": null,
   "metadata": {},
   "outputs": [],
   "source": [
    "plt.figure(figsize= (30,10))\n",
    "plt.boxplot(owner_count['counts'], vert=0)\n",
    "plt.xscale('log')\n",
    "plt.show()"
   ]
  },
  {
   "cell_type": "markdown",
   "metadata": {},
   "source": [
    "## Etherscan"
   ]
  },
  {
   "cell_type": "markdown",
   "metadata": {},
   "source": [
    "#### Common Things"
   ]
  },
  {
   "cell_type": "code",
   "execution_count": 11,
   "metadata": {},
   "outputs": [],
   "source": [
    "module = \"account\"\n",
    "address = \"0x82fbcf5e14abeeefc6c9596b777190d1b5459898\"\n",
    "API_KEY_ETH = \"UMSMKQKRPN8PGYIR1Q9HGVE561S393JI5V\""
   ]
  },
  {
   "cell_type": "markdown",
   "metadata": {},
   "source": [
    "##### Normal Transaction"
   ]
  },
  {
   "cell_type": "code",
   "execution_count": 31,
   "metadata": {},
   "outputs": [],
   "source": [
    "norm_tx_action = \"txlist\"\n",
    "url_norm_tx = 'https://api.etherscan.io/api?module={mdl}&action={act}&address={adrs}&startblock=0&endblock=99999999&page=1&offset=100&sort=asc&apikey={api}'.format(mdl=module, act = norm_tx_action, adrs = address, api=API_KEY_ETH)\n",
    "response_norm_tx = requests.get(url_norm_tx)"
   ]
  },
  {
   "cell_type": "code",
   "execution_count": null,
   "metadata": {},
   "outputs": [],
   "source": [
    "df_norm_tx = pd.DataFrame.from_dict(response_norm_tx.json()[\"result\"], orient=\"columns\")\n",
    "df_norm_tx_col = df_norm_tx[[\"timeStamp\",\"hash\",\"transactionIndex\",\"from\",\"to\",\"value\",\"gas\",\"gasPrice\"]]\n",
    "df_norm_tx_col.head(2)"
   ]
  },
  {
   "cell_type": "markdown",
   "metadata": {},
   "source": [
    "#### ERC 20 Transaction"
   ]
  },
  {
   "cell_type": "code",
   "execution_count": 31,
   "metadata": {},
   "outputs": [],
   "source": [
    "# tx_20_action = \"tokentx\"\n",
    "# url_20_tx = 'https://api.etherscan.io/api?module={mdl}&action={act}&address={adrs}&page=1&offset=100&startblock=0&endblock=999999999&sort=asc&apikey={api}'.format(mdl=module, act = tx_20_action, adrs = address, api=API_KEY_ETH)\n",
    "# response_20_tx = requests.get(url_20_tx)"
   ]
  },
  {
   "cell_type": "code",
   "execution_count": null,
   "metadata": {},
   "outputs": [],
   "source": [
    "# df_20_tx = pd.DataFrame.from_dict(response_20_tx.json()[\"result\"], orient=\"columns\")\n",
    "# df_20_tx_col = df_20_tx[[\"timeStamp\",\"hash\",\"from\",\"contractAddress\",\"to\",\"value\",\"tokenName\",\"tokenSymbol\",\"tokenDecimal\",\"transactionIndex\",\"gas\",\"gasPrice\"]]\n",
    "# df_20_tx_col['value'] = df_20_tx_col['value'].astype('float').apply(lambda x: round(x*(pow(10,-18)),5))"
   ]
  },
  {
   "cell_type": "code",
   "execution_count": null,
   "metadata": {},
   "outputs": [],
   "source": [
    "# for retrieve ERC20 txn data\n",
    "for owner in tqdm(owner_count[\"owner_address\"]):\n",
    "   address = owner\n",
    "\n",
    "   tx_20_action = \"tokentx\"\n",
    "   url_20_tx = 'https://api.etherscan.io/api?module={mdl}&action={act}&address={adrs}&page=1&offset=100&startblock=0&endblock=999999999&sort=asc&apikey={api}'.format(mdl=module, act=tx_20_action, adrs=address, api=API_KEY_ETH)\n",
    "   response_20_tx = requests.get(url_20_tx)\n",
    "   try:\n",
    "       df_20_tx = json_normalize(response_20_tx.json()[\"result\"])\n",
    "       df_20_tx_col = df_20_tx[[\"timeStamp\", \"hash\", \"from\", \"contractAddress\", \"to\", \"value\", \"tokenName\", \"tokenSymbol\", \"tokenDecimal\", \"transactionIndex\", \"gas\", \"gasPrice\"]]\n",
    "       df_20_tx_col['value'] = df_20_tx_col['value'].astype('float').apply(lambda x: round(x*(pow(10,-18)),5))\n",
    "   except:\n",
    "       pass\n",
    "   df_20_tx_col.to_csv(\"Y:\\decentraland_data_retrieve/retrieved_data/tx_erc20/erc20_{owner}.csv\".format(owner=owner), header=True)\n",
    "\n",
    "print(\"ERC20 data retrieve done!\")"
   ]
  },
  {
   "cell_type": "markdown",
   "metadata": {},
   "source": [
    "#### ERC 721 Transaction"
   ]
  },
  {
   "cell_type": "code",
   "execution_count": 29,
   "metadata": {},
   "outputs": [],
   "source": [
    "# tx_721_action = \"tokennfttx\"\n",
    "# url_721_tx = 'https://api.etherscan.io/api?module={mdl}&action={act}&address={adrs}&page=1&offset=100&startblock=0&endblock=999999999&sort=asc&apikey={api}'.format(mdl=module, act = tx_721_action, adrs = address, api=API_KEY_ETH)\n",
    "# response_721_tx = requests.get(url_721_tx)"
   ]
  },
  {
   "cell_type": "code",
   "execution_count": 36,
   "metadata": {},
   "outputs": [],
   "source": [
    "# df_721_tx = pd.DataFrame.from_dict(response_721_tx.json()[\"result\"], orient=\"columns\")\n",
    "# df_721_tx_col = df_721_tx[[\"timeStamp\",\"hash\",\"from\",\"contractAddress\",\"to\",\"tokenID\",\"tokenName\",\"tokenSymbol\",\"tokenDecimal\",\"transactionIndex\",\"gas\",\"gasPrice\"]]"
   ]
  },
  {
   "cell_type": "code",
   "execution_count": 49,
   "metadata": {},
   "outputs": [
    {
     "name": "stderr",
     "output_type": "stream",
     "text": [
      "100%|██████████| 6090/6090 [1:51:19<00:00,  1.10s/it]  "
     ]
    },
    {
     "name": "stdout",
     "output_type": "stream",
     "text": [
      "ERC721 data retrieve done!\n"
     ]
    },
    {
     "name": "stderr",
     "output_type": "stream",
     "text": [
      "\n"
     ]
    }
   ],
   "source": [
    "# for retrieve ERC721 txn data\n",
    "for owner in tqdm(owner_count[\"owner_address\"]):\n",
    "   address = owner\n",
    "\n",
    "   tx_721_action = \"tokennfttx\"\n",
    "   url_721_tx = 'https://api.etherscan.io/api?module={mdl}&action={act}&address={adrs}&page=1&offset=100&startblock=0&endblock=999999999&sort=asc&apikey={api}'.format(mdl=module, act = tx_721_action, adrs = address, api=API_KEY_ETH)\n",
    "   response_721_tx = requests.get(url_721_tx)\n",
    "\n",
    "   df_721_tx = pd.DataFrame.from_dict(response_721_tx.json()[\"result\"], orient=\"columns\")\n",
    "   \n",
    "   try:\n",
    "        df_721_tx_col = df_721_tx[[\"timeStamp\",\"hash\",\"from\",\"contractAddress\",\"to\",\"tokenID\",\"tokenName\",\"tokenSymbol\",\"tokenDecimal\",\"transactionIndex\",\"gas\",\"gasPrice\"]]\n",
    "   except:\n",
    "       pass\n",
    "   df_721_tx_col.to_csv(\"Y:\\decentraland_data_retrieve/retrieved_data/tx_erc721/erc721_{owner}.csv\".format(owner=owner), header=True)\n",
    "\n",
    "print(\"ERC721 data retrieve done!\")"
   ]
  },
  {
   "cell_type": "markdown",
   "metadata": {},
   "source": [
    "Qs\n",
    "- 몇 명의 유저가 액티브, 랜드를 소유하는지, "
   ]
  }
 ],
 "metadata": {
  "interpreter": {
   "hash": "50ed6b91f48180dabc09f5cf9754ecba48a5f8a882394753257ecdcc4e2cc172"
  },
  "kernelspec": {
   "display_name": "Python 3.9.7 64-bit",
   "language": "python",
   "name": "python3"
  },
  "language_info": {
   "codemirror_mode": {
    "name": "ipython",
    "version": 3
   },
   "file_extension": ".py",
   "mimetype": "text/x-python",
   "name": "python",
   "nbconvert_exporter": "python",
   "pygments_lexer": "ipython3",
   "version": "3.9.7"
  },
  "orig_nbformat": 4
 },
 "nbformat": 4,
 "nbformat_minor": 2
}
